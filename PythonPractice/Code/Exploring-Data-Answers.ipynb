{
 "cells": [
  {
   "cell_type": "markdown",
   "metadata": {},
   "source": [
    "# Exploring Data with Python using Jupyter Notebooks\n",
    "\n",
    "- Special Thanks to Galvanize for the basis of this Jupyter Notebook!\n",
    "\n",
    "### Objectives\n",
    "\n",
    "- use Python and Pandas to analyse a dataset of Hotel Receipts"
   ]
  },
  {
   "cell_type": "markdown",
   "metadata": {},
   "source": [
    "### Possible Business Goals\n",
    "\n",
    "This document will get part-way (more-or-less) to each of the following business goals:\n",
    "\n",
    "1. Inform an investor where he should build his next hotel (a first-pass market research effort).\n",
    "\n",
    "2. Hilton has hired you to do an analysis for their hotels in Texas.\n",
    "\n",
    "3. Identify best months for hotels in San Antonio to offer sales and promotions to drive profit."
   ]
  },
  {
   "cell_type": "markdown",
   "metadata": {},
   "source": [
    "# Import the libraries we'll need.\n",
    "\n",
    "In python, you use the `import` statement to load libraries into your script."
   ]
  },
  {
   "cell_type": "code",
   "execution_count": 158,
   "metadata": {
    "collapsed": false
   },
   "outputs": [],
   "source": [
    "# matplotlib is used for...you guessed it: plotting!\n",
    "import matplotlib.pyplot as plt\n",
    "\n",
    "# Pandas is the \"Python Data Analysis Library\". We use it for loading data from disk and\n",
    "# for manipulating and printing data.\n",
    "import pandas as pd\n",
    "import seaborn as sns\n",
    "\n",
    "# This next line is a Jupyter directive. It tells Jupyter that we want our plots to show\n",
    "# up right below the code that creates them.\n",
    "%matplotlib inline"
   ]
  },
  {
   "cell_type": "markdown",
   "metadata": {},
   "source": [
    "Pandas by default will not print every column in our data if there are A LOT of columns. For this notebook, we would prefer that Pandas print all the columns no matter what, so let's tell Pandas our wishes:"
   ]
  },
  {
   "cell_type": "code",
   "execution_count": 159,
   "metadata": {
    "collapsed": false
   },
   "outputs": [],
   "source": [
    "pd.set_option('display.max_columns', None)"
   ]
  },
  {
   "cell_type": "markdown",
   "metadata": {},
   "source": [
    "# Let's read some data!\n",
    "\n",
    "This data was obtained from https://data.texas.gov/"
   ]
  },
  {
   "cell_type": "code",
   "execution_count": 160,
   "metadata": {
    "collapsed": false
   },
   "outputs": [],
   "source": [
    "raw_dataframe = pd.read_csv(\"Hotel_Tax.csv\")"
   ]
  },
  {
   "cell_type": "markdown",
   "metadata": {},
   "source": [
    "### Woo! We have data. Now let's look at it!"
   ]
  },
  {
   "cell_type": "markdown",
   "metadata": {},
   "source": [
    "Pandas makes it easy to peek into your data and see what you have. The first step in any data project is to get to know your data.\n",
    "\n",
    "Let's start by looking at the first 3 rows of data. That's easy to do using the `head()` method on our DataFrame:"
   ]
  },
  {
   "cell_type": "code",
   "execution_count": 161,
   "metadata": {
    "collapsed": false,
    "scrolled": false
   },
   "outputs": [
    {
     "data": {
      "text/html": [
       "<div>\n",
       "<table border=\"1\" class=\"dataframe\">\n",
       "  <thead>\n",
       "    <tr style=\"text-align: right;\">\n",
       "      <th></th>\n",
       "      <th>Month</th>\n",
       "      <th>Year</th>\n",
       "      <th>Taxpayer Number</th>\n",
       "      <th>Taxpayer Name</th>\n",
       "      <th>Taxpayer Address</th>\n",
       "      <th>Taxpayer City</th>\n",
       "      <th>Taxpayer State</th>\n",
       "      <th>Taxpayer Zip</th>\n",
       "      <th>Taxpayer County</th>\n",
       "      <th>Outlet Number</th>\n",
       "      <th>Location Name</th>\n",
       "      <th>Location Address</th>\n",
       "      <th>Location City</th>\n",
       "      <th>Location State</th>\n",
       "      <th>Location Zip</th>\n",
       "      <th>Location County</th>\n",
       "      <th>Location Room Capacity</th>\n",
       "      <th>Location Tot Room Receipts</th>\n",
       "      <th>Location Taxable Receipts</th>\n",
       "      <th>Taxpayer Geolocation</th>\n",
       "      <th>Location Geolocation</th>\n",
       "    </tr>\n",
       "  </thead>\n",
       "  <tbody>\n",
       "    <tr>\n",
       "      <th>0</th>\n",
       "      <td>7</td>\n",
       "      <td>2015</td>\n",
       "      <td>32009496855</td>\n",
       "      <td>MARCUS C STARKEY</td>\n",
       "      <td>PO BOX 1780</td>\n",
       "      <td>PORT ARANSAS</td>\n",
       "      <td>TX</td>\n",
       "      <td>78373.0</td>\n",
       "      <td>178</td>\n",
       "      <td>155</td>\n",
       "      <td>(PB 114) TERRY L CARTER</td>\n",
       "      <td>2012 HWY 361 #114</td>\n",
       "      <td>PORT ARANSAS</td>\n",
       "      <td>TX</td>\n",
       "      <td>78373</td>\n",
       "      <td>178.0</td>\n",
       "      <td>1</td>\n",
       "      <td>$6010.00</td>\n",
       "      <td>$6010.00</td>\n",
       "      <td>PO BOX 1780\\nPORT ARANSAS, TX 78373\\n</td>\n",
       "      <td>2012 HWY 361 #114\\nPORT ARANSAS, TX 78373\\n</td>\n",
       "    </tr>\n",
       "    <tr>\n",
       "      <th>1</th>\n",
       "      <td>7</td>\n",
       "      <td>2015</td>\n",
       "      <td>32009496855</td>\n",
       "      <td>MARCUS C STARKEY</td>\n",
       "      <td>PO BOX 1780</td>\n",
       "      <td>PORT ARANSAS</td>\n",
       "      <td>TX</td>\n",
       "      <td>78373.0</td>\n",
       "      <td>178</td>\n",
       "      <td>156</td>\n",
       "      <td>(PB 205) LARRY OR VICKY MURPHY</td>\n",
       "      <td>2012 HWY 361 # 205</td>\n",
       "      <td>PORT ARANSAS</td>\n",
       "      <td>TX</td>\n",
       "      <td>78373</td>\n",
       "      <td>178.0</td>\n",
       "      <td>1</td>\n",
       "      <td>$9855.00</td>\n",
       "      <td>$9855.00</td>\n",
       "      <td>PO BOX 1780\\nPORT ARANSAS, TX 78373\\n</td>\n",
       "      <td>2012 HWY 361 # 205\\nPORT ARANSAS, TX 78373\\n</td>\n",
       "    </tr>\n",
       "    <tr>\n",
       "      <th>2</th>\n",
       "      <td>7</td>\n",
       "      <td>2015</td>\n",
       "      <td>32009496855</td>\n",
       "      <td>MARCUS C STARKEY</td>\n",
       "      <td>PO BOX 1780</td>\n",
       "      <td>PORT ARANSAS</td>\n",
       "      <td>TX</td>\n",
       "      <td>78373.0</td>\n",
       "      <td>178</td>\n",
       "      <td>194</td>\n",
       "      <td>(PB101) STEVEN AND MARY MORGAN</td>\n",
       "      <td>2012 HWY 361 #101</td>\n",
       "      <td>PORT ARANSAS</td>\n",
       "      <td>TX</td>\n",
       "      <td>78373</td>\n",
       "      <td>178.0</td>\n",
       "      <td>1</td>\n",
       "      <td>$9425.00</td>\n",
       "      <td>$9425.00</td>\n",
       "      <td>PO BOX 1780\\nPORT ARANSAS, TX 78373\\n</td>\n",
       "      <td>2012 HWY 361 #101\\nPORT ARANSAS, TX 78373\\n</td>\n",
       "    </tr>\n",
       "  </tbody>\n",
       "</table>\n",
       "</div>"
      ],
      "text/plain": [
       "   Month  Year  Taxpayer Number     Taxpayer Name Taxpayer Address  \\\n",
       "0      7  2015      32009496855  MARCUS C STARKEY      PO BOX 1780   \n",
       "1      7  2015      32009496855  MARCUS C STARKEY      PO BOX 1780   \n",
       "2      7  2015      32009496855  MARCUS C STARKEY      PO BOX 1780   \n",
       "\n",
       "  Taxpayer City Taxpayer State  Taxpayer Zip  Taxpayer County  Outlet Number  \\\n",
       "0  PORT ARANSAS             TX       78373.0              178            155   \n",
       "1  PORT ARANSAS             TX       78373.0              178            156   \n",
       "2  PORT ARANSAS             TX       78373.0              178            194   \n",
       "\n",
       "                    Location Name    Location Address Location City  \\\n",
       "0         (PB 114) TERRY L CARTER   2012 HWY 361 #114  PORT ARANSAS   \n",
       "1  (PB 205) LARRY OR VICKY MURPHY  2012 HWY 361 # 205  PORT ARANSAS   \n",
       "2  (PB101) STEVEN AND MARY MORGAN   2012 HWY 361 #101  PORT ARANSAS   \n",
       "\n",
       "  Location State  Location Zip  Location County  Location Room Capacity  \\\n",
       "0             TX         78373            178.0                       1   \n",
       "1             TX         78373            178.0                       1   \n",
       "2             TX         78373            178.0                       1   \n",
       "\n",
       "  Location Tot Room Receipts Location Taxable Receipts  \\\n",
       "0                   $6010.00                  $6010.00   \n",
       "1                   $9855.00                  $9855.00   \n",
       "2                   $9425.00                  $9425.00   \n",
       "\n",
       "                    Taxpayer Geolocation  \\\n",
       "0  PO BOX 1780\\nPORT ARANSAS, TX 78373\\n   \n",
       "1  PO BOX 1780\\nPORT ARANSAS, TX 78373\\n   \n",
       "2  PO BOX 1780\\nPORT ARANSAS, TX 78373\\n   \n",
       "\n",
       "                           Location Geolocation  \n",
       "0   2012 HWY 361 #114\\nPORT ARANSAS, TX 78373\\n  \n",
       "1  2012 HWY 361 # 205\\nPORT ARANSAS, TX 78373\\n  \n",
       "2   2012 HWY 361 #101\\nPORT ARANSAS, TX 78373\\n  "
      ]
     },
     "execution_count": 161,
     "metadata": {},
     "output_type": "execute_result"
    }
   ],
   "source": [
    "raw_dataframe.head(3)"
   ]
  },
  {
   "cell_type": "markdown",
   "metadata": {},
   "source": [
    "Looks good at first glance. We'll dig in more later, but first let's ask Pandas to give us info about the datatype of each columns:"
   ]
  },
  {
   "cell_type": "code",
   "execution_count": 162,
   "metadata": {
    "collapsed": false
   },
   "outputs": [
    {
     "name": "stdout",
     "output_type": "stream",
     "text": [
      "<class 'pandas.core.frame.DataFrame'>\n",
      "RangeIndex: 17977 entries, 0 to 17976\n",
      "Data columns (total 21 columns):\n",
      "Month                         17977 non-null int64\n",
      "Year                          17977 non-null int64\n",
      "Taxpayer Number               17977 non-null int64\n",
      "Taxpayer Name                 17977 non-null object\n",
      "Taxpayer Address              17977 non-null object\n",
      "Taxpayer City                 17977 non-null object\n",
      "Taxpayer State                17975 non-null object\n",
      "Taxpayer Zip                  17975 non-null float64\n",
      "Taxpayer County               17977 non-null int64\n",
      "Outlet Number                 17977 non-null int64\n",
      "Location Name                 17977 non-null object\n",
      "Location Address              17977 non-null object\n",
      "Location City                 17977 non-null object\n",
      "Location State                17977 non-null object\n",
      "Location Zip                  17977 non-null int64\n",
      "Location County               17975 non-null float64\n",
      "Location Room Capacity        17977 non-null int64\n",
      "Location Tot Room Receipts    17977 non-null object\n",
      "Location Taxable Receipts     17977 non-null object\n",
      "Taxpayer Geolocation          17977 non-null object\n",
      "Location Geolocation          17977 non-null object\n",
      "dtypes: float64(2), int64(7), object(12)\n",
      "memory usage: 2.9+ MB\n"
     ]
    }
   ],
   "source": [
    "raw_dataframe.info()"
   ]
  },
  {
   "cell_type": "markdown",
   "metadata": {},
   "source": [
    "Most of the stuff above looks correct:\n",
    "- _Month_ is encoded as an integer, so pandas is correct in identifying the _Month_ column as an integer.\n",
    "- _Name_, _Address_, _City_, and _State_ are correctly identified as strings (that's what pandas means when it says something is an object).\n",
    "- _County_ is also encoded as an integer, so pandas is correct again.\n",
    "- ... etc...\n",
    "\n",
    "There are a few things above that don't look right:\n",
    "- Why is _Taxpayer Zip_ a floating point number?\n",
    "- Why is _Location County_ a floating point number?\n",
    "- _Location Tot Room Receipts_ has a dollar sign in it which is why pandas thinks it's a string instead of a number.\n",
    "- Ditto for _Location Taxable Receipts_."
   ]
  },
  {
   "cell_type": "markdown",
   "metadata": {},
   "source": [
    "# Let's clean our data."
   ]
  },
  {
   "cell_type": "markdown",
   "metadata": {},
   "source": [
    "We idenified four issues above, so let's fix each one."
   ]
  },
  {
   "cell_type": "code",
   "execution_count": 163,
   "metadata": {
    "collapsed": true
   },
   "outputs": [],
   "source": [
    "# Let's work in a new DataFrame so that we don't loose our original data.\n",
    "# (It's often useful to have the original data on-hand.)\n",
    "dataframe = raw_dataframe.copy()"
   ]
  },
  {
   "cell_type": "code",
   "execution_count": 164,
   "metadata": {
    "collapsed": true
   },
   "outputs": [],
   "source": [
    "# Convert _Taxpayer Zip_ to an integer.\n",
    "dataframe['Taxpayer Zip'] = dataframe['Taxpayer Zip'].fillna(0.0).astype(int)"
   ]
  },
  {
   "cell_type": "code",
   "execution_count": 165,
   "metadata": {
    "collapsed": true
   },
   "outputs": [],
   "source": [
    "# Convert _Location County_ to an integer.\n",
    "dataframe['Location County'] = dataframe['Location County'].fillna(0.0).astype(int)"
   ]
  },
  {
   "cell_type": "code",
   "execution_count": 166,
   "metadata": {
    "collapsed": true
   },
   "outputs": [],
   "source": [
    "# Convert _Location Tot Room Receipts_ to a float.\n",
    "dataframe['Location Tot Room Receipts'] = \\\n",
    "    dataframe['Location Tot Room Receipts'] \\\n",
    "        .replace('[\\$,]', '', regex=True).astype(float, inplace=True)"
   ]
  },
  {
   "cell_type": "code",
   "execution_count": 167,
   "metadata": {
    "collapsed": false
   },
   "outputs": [],
   "source": [
    "# Convert _Location Tot Room Receipts_ to a float.\n",
    "dataframe['Location Taxable Receipts'] = \\\n",
    "    dataframe['Location Taxable Receipts'] \\\n",
    "        .replace('[\\$,]', '', regex=True).astype(float, inplace=True)"
   ]
  },
  {
   "cell_type": "markdown",
   "metadata": {},
   "source": [
    "Again, let's have pandas give us info about what it thinks the datatype of each column is. It should all look good now:"
   ]
  },
  {
   "cell_type": "code",
   "execution_count": 168,
   "metadata": {
    "collapsed": false
   },
   "outputs": [
    {
     "name": "stdout",
     "output_type": "stream",
     "text": [
      "<class 'pandas.core.frame.DataFrame'>\n",
      "RangeIndex: 17977 entries, 0 to 17976\n",
      "Data columns (total 21 columns):\n",
      "Month                         17977 non-null int64\n",
      "Year                          17977 non-null int64\n",
      "Taxpayer Number               17977 non-null int64\n",
      "Taxpayer Name                 17977 non-null object\n",
      "Taxpayer Address              17977 non-null object\n",
      "Taxpayer City                 17977 non-null object\n",
      "Taxpayer State                17975 non-null object\n",
      "Taxpayer Zip                  17977 non-null int64\n",
      "Taxpayer County               17977 non-null int64\n",
      "Outlet Number                 17977 non-null int64\n",
      "Location Name                 17977 non-null object\n",
      "Location Address              17977 non-null object\n",
      "Location City                 17977 non-null object\n",
      "Location State                17977 non-null object\n",
      "Location Zip                  17977 non-null int64\n",
      "Location County               17977 non-null int64\n",
      "Location Room Capacity        17977 non-null int64\n",
      "Location Tot Room Receipts    17977 non-null float64\n",
      "Location Taxable Receipts     17977 non-null float64\n",
      "Taxpayer Geolocation          17977 non-null object\n",
      "Location Geolocation          17977 non-null object\n",
      "dtypes: float64(2), int64(9), object(10)\n",
      "memory usage: 2.9+ MB\n"
     ]
    }
   ],
   "source": [
    "dataframe.info()"
   ]
  },
  {
   "cell_type": "markdown",
   "metadata": {},
   "source": [
    "Woot! This time the datatypes look correct. So, datatypes are good... next we'll look at the content of our data."
   ]
  },
  {
   "cell_type": "markdown",
   "metadata": {},
   "source": [
    "# Exploratory Data Analysis"
   ]
  },
  {
   "cell_type": "markdown",
   "metadata": {},
   "source": [
    "### Sanity Check\n",
    "\n",
    "Let's look at the head again. It should be the same as before, but we'll look again to remind ourselves what it looks like."
   ]
  },
  {
   "cell_type": "code",
   "execution_count": 169,
   "metadata": {
    "collapsed": false
   },
   "outputs": [
    {
     "data": {
      "text/html": [
       "<div>\n",
       "<table border=\"1\" class=\"dataframe\">\n",
       "  <thead>\n",
       "    <tr style=\"text-align: right;\">\n",
       "      <th></th>\n",
       "      <th>Month</th>\n",
       "      <th>Year</th>\n",
       "      <th>Taxpayer Number</th>\n",
       "      <th>Taxpayer Name</th>\n",
       "      <th>Taxpayer Address</th>\n",
       "      <th>Taxpayer City</th>\n",
       "      <th>Taxpayer State</th>\n",
       "      <th>Taxpayer Zip</th>\n",
       "      <th>Taxpayer County</th>\n",
       "      <th>Outlet Number</th>\n",
       "      <th>Location Name</th>\n",
       "      <th>Location Address</th>\n",
       "      <th>Location City</th>\n",
       "      <th>Location State</th>\n",
       "      <th>Location Zip</th>\n",
       "      <th>Location County</th>\n",
       "      <th>Location Room Capacity</th>\n",
       "      <th>Location Tot Room Receipts</th>\n",
       "      <th>Location Taxable Receipts</th>\n",
       "      <th>Taxpayer Geolocation</th>\n",
       "      <th>Location Geolocation</th>\n",
       "    </tr>\n",
       "  </thead>\n",
       "  <tbody>\n",
       "    <tr>\n",
       "      <th>0</th>\n",
       "      <td>7</td>\n",
       "      <td>2015</td>\n",
       "      <td>32009496855</td>\n",
       "      <td>MARCUS C STARKEY</td>\n",
       "      <td>PO BOX 1780</td>\n",
       "      <td>PORT ARANSAS</td>\n",
       "      <td>TX</td>\n",
       "      <td>78373</td>\n",
       "      <td>178</td>\n",
       "      <td>155</td>\n",
       "      <td>(PB 114) TERRY L CARTER</td>\n",
       "      <td>2012 HWY 361 #114</td>\n",
       "      <td>PORT ARANSAS</td>\n",
       "      <td>TX</td>\n",
       "      <td>78373</td>\n",
       "      <td>178</td>\n",
       "      <td>1</td>\n",
       "      <td>6010.0</td>\n",
       "      <td>6010.0</td>\n",
       "      <td>PO BOX 1780\\nPORT ARANSAS, TX 78373\\n</td>\n",
       "      <td>2012 HWY 361 #114\\nPORT ARANSAS, TX 78373\\n</td>\n",
       "    </tr>\n",
       "    <tr>\n",
       "      <th>1</th>\n",
       "      <td>7</td>\n",
       "      <td>2015</td>\n",
       "      <td>32009496855</td>\n",
       "      <td>MARCUS C STARKEY</td>\n",
       "      <td>PO BOX 1780</td>\n",
       "      <td>PORT ARANSAS</td>\n",
       "      <td>TX</td>\n",
       "      <td>78373</td>\n",
       "      <td>178</td>\n",
       "      <td>156</td>\n",
       "      <td>(PB 205) LARRY OR VICKY MURPHY</td>\n",
       "      <td>2012 HWY 361 # 205</td>\n",
       "      <td>PORT ARANSAS</td>\n",
       "      <td>TX</td>\n",
       "      <td>78373</td>\n",
       "      <td>178</td>\n",
       "      <td>1</td>\n",
       "      <td>9855.0</td>\n",
       "      <td>9855.0</td>\n",
       "      <td>PO BOX 1780\\nPORT ARANSAS, TX 78373\\n</td>\n",
       "      <td>2012 HWY 361 # 205\\nPORT ARANSAS, TX 78373\\n</td>\n",
       "    </tr>\n",
       "    <tr>\n",
       "      <th>2</th>\n",
       "      <td>7</td>\n",
       "      <td>2015</td>\n",
       "      <td>32009496855</td>\n",
       "      <td>MARCUS C STARKEY</td>\n",
       "      <td>PO BOX 1780</td>\n",
       "      <td>PORT ARANSAS</td>\n",
       "      <td>TX</td>\n",
       "      <td>78373</td>\n",
       "      <td>178</td>\n",
       "      <td>194</td>\n",
       "      <td>(PB101) STEVEN AND MARY MORGAN</td>\n",
       "      <td>2012 HWY 361 #101</td>\n",
       "      <td>PORT ARANSAS</td>\n",
       "      <td>TX</td>\n",
       "      <td>78373</td>\n",
       "      <td>178</td>\n",
       "      <td>1</td>\n",
       "      <td>9425.0</td>\n",
       "      <td>9425.0</td>\n",
       "      <td>PO BOX 1780\\nPORT ARANSAS, TX 78373\\n</td>\n",
       "      <td>2012 HWY 361 #101\\nPORT ARANSAS, TX 78373\\n</td>\n",
       "    </tr>\n",
       "  </tbody>\n",
       "</table>\n",
       "</div>"
      ],
      "text/plain": [
       "   Month  Year  Taxpayer Number     Taxpayer Name Taxpayer Address  \\\n",
       "0      7  2015      32009496855  MARCUS C STARKEY      PO BOX 1780   \n",
       "1      7  2015      32009496855  MARCUS C STARKEY      PO BOX 1780   \n",
       "2      7  2015      32009496855  MARCUS C STARKEY      PO BOX 1780   \n",
       "\n",
       "  Taxpayer City Taxpayer State  Taxpayer Zip  Taxpayer County  Outlet Number  \\\n",
       "0  PORT ARANSAS             TX         78373              178            155   \n",
       "1  PORT ARANSAS             TX         78373              178            156   \n",
       "2  PORT ARANSAS             TX         78373              178            194   \n",
       "\n",
       "                    Location Name    Location Address Location City  \\\n",
       "0         (PB 114) TERRY L CARTER   2012 HWY 361 #114  PORT ARANSAS   \n",
       "1  (PB 205) LARRY OR VICKY MURPHY  2012 HWY 361 # 205  PORT ARANSAS   \n",
       "2  (PB101) STEVEN AND MARY MORGAN   2012 HWY 361 #101  PORT ARANSAS   \n",
       "\n",
       "  Location State  Location Zip  Location County  Location Room Capacity  \\\n",
       "0             TX         78373              178                       1   \n",
       "1             TX         78373              178                       1   \n",
       "2             TX         78373              178                       1   \n",
       "\n",
       "   Location Tot Room Receipts  Location Taxable Receipts  \\\n",
       "0                      6010.0                     6010.0   \n",
       "1                      9855.0                     9855.0   \n",
       "2                      9425.0                     9425.0   \n",
       "\n",
       "                    Taxpayer Geolocation  \\\n",
       "0  PO BOX 1780\\nPORT ARANSAS, TX 78373\\n   \n",
       "1  PO BOX 1780\\nPORT ARANSAS, TX 78373\\n   \n",
       "2  PO BOX 1780\\nPORT ARANSAS, TX 78373\\n   \n",
       "\n",
       "                           Location Geolocation  \n",
       "0   2012 HWY 361 #114\\nPORT ARANSAS, TX 78373\\n  \n",
       "1  2012 HWY 361 # 205\\nPORT ARANSAS, TX 78373\\n  \n",
       "2   2012 HWY 361 #101\\nPORT ARANSAS, TX 78373\\n  "
      ]
     },
     "execution_count": 169,
     "metadata": {},
     "output_type": "execute_result"
    }
   ],
   "source": [
    "dataframe.head(3)"
   ]
  },
  {
   "cell_type": "markdown",
   "metadata": {},
   "source": [
    "I'm noticing something that might be wrong. We'll have to keep this in mind as we move forward: Why is 'Location Room Capacity' equal 1 for these rows? Are these hotels with just one room each? Maybe... we'll keep this in mind.\n",
    "\n",
    "For now let's get an idea about the distribution of the 'Location Room Capacity' column. We'll create a histogram over this column."
   ]
  },
  {
   "cell_type": "code",
   "execution_count": 170,
   "metadata": {
    "collapsed": false
   },
   "outputs": [
    {
     "data": {
      "text/plain": [
       "<matplotlib.axes._subplots.AxesSubplot at 0x12d8f86a0>"
      ]
     },
     "execution_count": 170,
     "metadata": {},
     "output_type": "execute_result"
    },
    {
     "data": {
      "image/png": "[encoded data removed]",
      "text/plain": [
       "<matplotlib.figure.Figure at 0x12daba4e0>"
      ]
     },
     "metadata": {},
     "output_type": "display_data"
    }
   ],
   "source": [
    "dataframe['Location Room Capacity'].hist(bins=100)"
   ]
  },
  {
   "cell_type": "markdown",
   "metadata": {},
   "source": [
    "... well... that wasn't very informative! That's okay, let's try again. This time we'll only look at rows where the 'Location Room Capacity' is less than 50; this will make us sort-of \"zoom in\" on the part that's most interesting:"
   ]
  },
  {
   "cell_type": "code",
   "execution_count": 171,
   "metadata": {
    "collapsed": false
   },
   "outputs": [
    {
     "data": {
      "text/plain": [
       "<matplotlib.axes._subplots.AxesSubplot at 0x1299612b0>"
      ]
     },
     "execution_count": 171,
     "metadata": {},
     "output_type": "execute_result"
    },
    {
     "data": {
      "image/png": "[encoded data removed]",
      "text/plain": [
       "<matplotlib.figure.Figure at 0x1299fa0b8>"
      ]
     },
     "metadata": {},
     "output_type": "display_data"
    }
   ],
   "source": [
    "rows_of_interest = (dataframe['Location Room Capacity'] < 50)\n",
    "dataframe[rows_of_interest]['Location Room Capacity'].hist(bins=100)"
   ]
  },
  {
   "cell_type": "markdown",
   "metadata": {},
   "source": [
    "Humm... is that spike at 'Location Room Capacity' == 1? Let's find out."
   ]
  },
  {
   "cell_type": "code",
   "execution_count": 172,
   "metadata": {
    "collapsed": false
   },
   "outputs": [
    {
     "data": {
      "text/plain": [
       "5276"
      ]
     },
     "execution_count": 172,
     "metadata": {},
     "output_type": "execute_result"
    }
   ],
   "source": [
    "(dataframe['Location Room Capacity'] == 1).sum()"
   ]
  },
  {
   "cell_type": "markdown",
   "metadata": {},
   "source": [
    "... yep, that spike is at 'Location Room Capacity' == 1.\n",
    "\n",
    "There seems to be way too many hotels with 'Location Room Capacity' == 1. It's possible that whoever created this dataset is filling all \"unknown values\" with the value 1."
   ]
  },
  {
   "cell_type": "code",
   "execution_count": 173,
   "metadata": {
    "collapsed": false
   },
   "outputs": [
    {
     "name": "stdout",
     "output_type": "stream",
     "text": [
      "Orig size: (17977, 21)\n",
      "New size: (12701, 21)\n"
     ]
    }
   ],
   "source": [
    "# The lines below drop the 'bad' rows in the dataset.\n",
    "# Rerun on second time through. \n",
    "\n",
    "print(\"Orig size:\", dataframe.shape)\n",
    "dataframe = dataframe[dataframe['Location Room Capacity'] > 1]\n",
    "print(\"New size:\", dataframe.shape)"
   ]
  },
  {
   "cell_type": "markdown",
   "metadata": {},
   "source": [
    "### Visualization (histograms and scatterplots)"
   ]
  },
  {
   "cell_type": "markdown",
   "metadata": {},
   "source": [
    "#### Number of States Represented\n",
    "\n",
    "Let's see what states are represented in this data. (It _should_ only be Texas, but let's check.)"
   ]
  },
  {
   "cell_type": "code",
   "execution_count": 174,
   "metadata": {
    "collapsed": true
   },
   "outputs": [],
   "source": [
    "## Group dataframe by state\n",
    "agg = dataframe.groupby('Location State').apply(len)"
   ]
  },
  {
   "cell_type": "code",
   "execution_count": 175,
   "metadata": {
    "collapsed": false
   },
   "outputs": [
    {
     "data": {
      "text/plain": [
       "<matplotlib.text.Text at 0x12ccf77b8>"
      ]
     },
     "execution_count": 175,
     "metadata": {},
     "output_type": "execute_result"
    },
    {
     "data": {
      "image/png": "[encoded data removed]",
      "text/plain": [
       "<matplotlib.figure.Figure at 0x12cd43a58>"
      ]
     },
     "metadata": {},
     "output_type": "display_data"
    }
   ],
   "source": [
    "## Plot histogram of records\n",
    "agg.plot(kind='bar').set_ylabel('# records')"
   ]
  },
  {
   "cell_type": "markdown",
   "metadata": {},
   "source": [
    "... We have some non-Texas stuff in here! Let's get a textual printout for more detail."
   ]
  },
  {
   "cell_type": "code",
   "execution_count": 176,
   "metadata": {
    "collapsed": false
   },
   "outputs": [
    {
     "data": {
      "text/plain": [
       "TX    12699\n",
       "IN        2\n",
       "Name: Location State, dtype: int64"
      ]
     },
     "execution_count": 176,
     "metadata": {},
     "output_type": "execute_result"
    }
   ],
   "source": [
    "## Display the counts for each value\n",
    "dataframe['Location State'].value_counts()"
   ]
  },
  {
   "cell_type": "markdown",
   "metadata": {},
   "source": [
    "... Indiana... what's up with that? Let's keep only the Texas rows."
   ]
  },
  {
   "cell_type": "code",
   "execution_count": 177,
   "metadata": {
    "collapsed": false
   },
   "outputs": [],
   "source": [
    "## Subset to only Texas rows\n",
    "texas_df = dataframe[dataframe['Location State'] == 'TX']"
   ]
  },
  {
   "cell_type": "markdown",
   "metadata": {},
   "source": [
    "#### Number of Cities Represented\n",
    "\n",
    "How many unique cities are represented?"
   ]
  },
  {
   "cell_type": "code",
   "execution_count": 178,
   "metadata": {
    "collapsed": false
   },
   "outputs": [
    {
     "data": {
      "text/plain": [
       "count       12699\n",
       "unique        658\n",
       "top       HOUSTON\n",
       "freq         1120\n",
       "Name: Location City, dtype: object"
      ]
     },
     "execution_count": 178,
     "metadata": {},
     "output_type": "execute_result"
    }
   ],
   "source": [
    "# How many unique cities are in our dataset?\n",
    "texas_df['Location City'].describe()"
   ]
  },
  {
   "cell_type": "markdown",
   "metadata": {},
   "source": [
    "#### Histogram: Number of unique hotels in each city"
   ]
  },
  {
   "cell_type": "code",
   "execution_count": 179,
   "metadata": {
    "collapsed": true
   },
   "outputs": [],
   "source": [
    "# Count the number of unique hotels in each city:\n",
    "\n",
    "## Group Texas df by city and get counts\n",
    "city_counts = texas_df.groupby('Location City')['Taxpayer Number'].nunique()"
   ]
  },
  {
   "cell_type": "code",
   "execution_count": 180,
   "metadata": {
    "collapsed": true
   },
   "outputs": [],
   "source": [
    "## Sort values by counts\n",
    "city_counts.sort_values(axis=0, ascending=False, inplace=True)"
   ]
  },
  {
   "cell_type": "code",
   "execution_count": 181,
   "metadata": {
    "collapsed": true
   },
   "outputs": [],
   "source": [
    "## Get top 50 cities\n",
    "top_cities = city_counts > 50"
   ]
  },
  {
   "cell_type": "code",
   "execution_count": 182,
   "metadata": {
    "collapsed": false
   },
   "outputs": [
    {
     "data": {
      "text/plain": [
       "<matplotlib.text.Text at 0x12d07ebe0>"
      ]
     },
     "execution_count": 182,
     "metadata": {},
     "output_type": "execute_result"
    },
    {
     "data": {
      "image/png": "[encoded data removed]",
      "text/plain": [
       "<matplotlib.figure.Figure at 0x12b9b16d8>"
      ]
     },
     "metadata": {},
     "output_type": "display_data"
    }
   ],
   "source": [
    "## Plot a barchart of unique hotels\n",
    "city_counts[top_cities].plot(kind='bar').set_ylabel('# unique hotels')"
   ]
  },
  {
   "cell_type": "markdown",
   "metadata": {},
   "source": [
    "#### Exploring the numeric columns"
   ]
  },
  {
   "cell_type": "code",
   "execution_count": 183,
   "metadata": {
    "collapsed": true
   },
   "outputs": [],
   "source": [
    "# Now let's focus on the numeric columns.\n",
    "# Create a list of the numeric columns\n",
    "numeric_columns = ['Month', 'Year', 'Outlet Number', 'Location Room Capacity',\n",
    "                   'Location Tot Room Receipts', 'Location Taxable Receipts']"
   ]
  },
  {
   "cell_type": "code",
   "execution_count": 184,
   "metadata": {
    "collapsed": false,
    "scrolled": false
   },
   "outputs": [
    {
     "data": {
      "text/html": [
       "<div>\n",
       "<table border=\"1\" class=\"dataframe\">\n",
       "  <thead>\n",
       "    <tr style=\"text-align: right;\">\n",
       "      <th></th>\n",
       "      <th>Month</th>\n",
       "      <th>Year</th>\n",
       "      <th>Outlet Number</th>\n",
       "      <th>Location Room Capacity</th>\n",
       "      <th>Location Tot Room Receipts</th>\n",
       "      <th>Location Taxable Receipts</th>\n",
       "    </tr>\n",
       "  </thead>\n",
       "  <tbody>\n",
       "    <tr>\n",
       "      <th>count</th>\n",
       "      <td>12699.000000</td>\n",
       "      <td>12699.0</td>\n",
       "      <td>12699.000000</td>\n",
       "      <td>12699.000000</td>\n",
       "      <td>1.269900e+04</td>\n",
       "      <td>1.269900e+04</td>\n",
       "    </tr>\n",
       "    <tr>\n",
       "      <th>mean</th>\n",
       "      <td>7.502795</td>\n",
       "      <td>2015.0</td>\n",
       "      <td>13.092842</td>\n",
       "      <td>75.641547</td>\n",
       "      <td>1.428364e+05</td>\n",
       "      <td>1.233902e+05</td>\n",
       "    </tr>\n",
       "    <tr>\n",
       "      <th>std</th>\n",
       "      <td>0.500012</td>\n",
       "      <td>0.0</td>\n",
       "      <td>43.592113</td>\n",
       "      <td>241.979413</td>\n",
       "      <td>3.544799e+05</td>\n",
       "      <td>2.903193e+05</td>\n",
       "    </tr>\n",
       "    <tr>\n",
       "      <th>min</th>\n",
       "      <td>7.000000</td>\n",
       "      <td>2015.0</td>\n",
       "      <td>1.000000</td>\n",
       "      <td>2.000000</td>\n",
       "      <td>0.000000e+00</td>\n",
       "      <td>0.000000e+00</td>\n",
       "    </tr>\n",
       "    <tr>\n",
       "      <th>25%</th>\n",
       "      <td>7.000000</td>\n",
       "      <td>2015.0</td>\n",
       "      <td>1.000000</td>\n",
       "      <td>23.000000</td>\n",
       "      <td>1.454726e+04</td>\n",
       "      <td>1.094312e+04</td>\n",
       "    </tr>\n",
       "    <tr>\n",
       "      <th>50%</th>\n",
       "      <td>8.000000</td>\n",
       "      <td>2015.0</td>\n",
       "      <td>1.000000</td>\n",
       "      <td>54.000000</td>\n",
       "      <td>5.573664e+04</td>\n",
       "      <td>4.325000e+04</td>\n",
       "    </tr>\n",
       "    <tr>\n",
       "      <th>75%</th>\n",
       "      <td>8.000000</td>\n",
       "      <td>2015.0</td>\n",
       "      <td>2.000000</td>\n",
       "      <td>92.000000</td>\n",
       "      <td>1.559256e+05</td>\n",
       "      <td>1.362628e+05</td>\n",
       "    </tr>\n",
       "    <tr>\n",
       "      <th>max</th>\n",
       "      <td>8.000000</td>\n",
       "      <td>2015.0</td>\n",
       "      <td>371.000000</td>\n",
       "      <td>17211.000000</td>\n",
       "      <td>1.552075e+07</td>\n",
       "      <td>7.142023e+06</td>\n",
       "    </tr>\n",
       "  </tbody>\n",
       "</table>\n",
       "</div>"
      ],
      "text/plain": [
       "              Month     Year  Outlet Number  Location Room Capacity  \\\n",
       "count  12699.000000  12699.0   12699.000000            12699.000000   \n",
       "mean       7.502795   2015.0      13.092842               75.641547   \n",
       "std        0.500012      0.0      43.592113              241.979413   \n",
       "min        7.000000   2015.0       1.000000                2.000000   \n",
       "25%        7.000000   2015.0       1.000000               23.000000   \n",
       "50%        8.000000   2015.0       1.000000               54.000000   \n",
       "75%        8.000000   2015.0       2.000000               92.000000   \n",
       "max        8.000000   2015.0     371.000000            17211.000000   \n",
       "\n",
       "       Location Tot Room Receipts  Location Taxable Receipts  \n",
       "count                1.269900e+04               1.269900e+04  \n",
       "mean                 1.428364e+05               1.233902e+05  \n",
       "std                  3.544799e+05               2.903193e+05  \n",
       "min                  0.000000e+00               0.000000e+00  \n",
       "25%                  1.454726e+04               1.094312e+04  \n",
       "50%                  5.573664e+04               4.325000e+04  \n",
       "75%                  1.559256e+05               1.362628e+05  \n",
       "max                  1.552075e+07               7.142023e+06  "
      ]
     },
     "execution_count": 184,
     "metadata": {},
     "output_type": "execute_result"
    }
   ],
   "source": [
    "# Let's look at some stats for our numeric columns:\n",
    "texas_df[numeric_columns].describe()"
   ]
  },
  {
   "cell_type": "markdown",
   "metadata": {},
   "source": [
    "#### Pairplot over a few numeric columns-of-interest\n",
    "\n",
    "For this dataset, this turns out to not be very interesting, but it's good to always look at this anyway!\n",
    "\n",
    "A _pairplot_ (also known as a _scatter matrix_) will plot every column vs every other column. It's a quick way to see which pairs of columns are correlated (or not)."
   ]
  },
  {
   "cell_type": "code",
   "execution_count": 185,
   "metadata": {
    "collapsed": false
   },
   "outputs": [
    {
     "data": {
      "text/plain": [
       "<seaborn.axisgrid.PairGrid at 0x12cd9d748>"
      ]
     },
     "execution_count": 185,
     "metadata": {},
     "output_type": "execute_result"
    },
    {
     "data": {
      "text/plain": [
       "<matplotlib.figure.Figure at 0x12d1b2a58>"
      ]
     },
     "metadata": {},
     "output_type": "display_data"
    },
    {
     "data": {
      "image/png": "[encoded data removed]",
      "text/plain": [
       "<matplotlib.figure.Figure at 0x12cd39978>"
      ]
     },
     "metadata": {},
     "output_type": "display_data"
    }
   ],
   "source": [
    "cols_of_interest = ['Location Room Capacity', 'Location Tot Room Receipts',\n",
    "                    'Location Taxable Receipts']\n",
    "plt.figure(figsize=(10, 8))\n",
    "sns.set_style(\"white\")\n",
    "sns.pairplot(texas_df[cols_of_interest])"
   ]
  },
  {
   "cell_type": "markdown",
   "metadata": {},
   "source": [
    "#### Compare two cities: Scatterplot 'Location Room Capacity' vs 'Location Tot Room Receipts' for each city\n",
    "\n",
    "Does it seem that Austin and El Paso are different, or are they basically the same? (We'll explore this more further later on, but for now let's just look at the pretty picture and make our best guess.)"
   ]
  },
  {
   "cell_type": "code",
   "execution_count": 186,
   "metadata": {
    "collapsed": false
   },
   "outputs": [
    {
     "name": "stderr",
     "output_type": "stream",
     "text": [
      "/Users/cschl1/anaconda/lib/python3.6/site-packages/ipykernel/__main__.py:11: UserWarning: Boolean Series key will be reindexed to match DataFrame index.\n",
      "/Users/cschl1/anaconda/lib/python3.6/site-packages/ipykernel/__main__.py:12: UserWarning: Boolean Series key will be reindexed to match DataFrame index.\n"
     ]
    },
    {
     "data": {
      "text/plain": [
       "<matplotlib.legend.Legend at 0x12dc83240>"
      ]
     },
     "execution_count": 186,
     "metadata": {},
     "output_type": "execute_result"
    },
    {
     "data": {
      "image/png": "[encoded data removed]",
      "text/plain": [
       "<matplotlib.figure.Figure at 0x12dc83da0>"
      ]
     },
     "metadata": {},
     "output_type": "display_data"
    }
   ],
   "source": [
    "### Use matplotlib for this! \n",
    "cities_of_interest = ['AUSTIN', 'EL PASO']\n",
    "\n",
    "# Scatter plot by city.\n",
    "for city in cities_of_interest:\n",
    "    # Filter to only the city\n",
    "    city_mask = (texas_df['Location City'] == city)\n",
    "    # Filter to large room capacity hotels\n",
    "    size_mask = (texas_df['Location Room Capacity'] < 220)\n",
    "    # Plot Room receipts versus capacity \n",
    "    plt.plot(texas_df[city_mask][size_mask]['Location Room Capacity'],\n",
    "             texas_df[city_mask][size_mask]['Location Tot Room Receipts'],\n",
    "             linestyle='',\n",
    "             marker='o',\n",
    "             alpha=1,\n",
    "             label=city)\n",
    "\n",
    "# Label the axis\n",
    "plt.xlabel('Location Room Capacity')\n",
    "plt.ylabel('Location Tot Room Receipts')\n",
    "plt.legend(numpoints=1)"
   ]
  },
  {
   "cell_type": "markdown",
   "metadata": {},
   "source": [
    "Humm... I don't know about you, but I didn't expect this! There are two things here that surprised me:\n",
    "1. The trend-line is not very strong. There is a general upward trend, but it is riddled with noise.\n",
    "2. These cities do not differ much! Average income per room is roughly the same in each city.\n",
    "\n",
    "The takeaway (this is usually the takeaway), is two-fold:\n",
    "1. Your data is probably not as clean asd pretty as you'd like, and\n",
    "2. Often your assumptions about what you will find are just plain wrong.\n",
    "\n",
    "... Seeing this now changes the direction I was planning to head. That's why we do Exploratory Data Analysis! \n",
    "\n",
    "Also: Imagine this senario: Your investor friend was told that Austin is in desparate need of hotels--that there is more demand than supply and that it would be a great time to build a hotel in Austin because you could get amazing ROI. Your investor friend comes to you to varify this. We're not finished with our analysis yet, but it's not looking good for that theory so far."
   ]
  },
  {
   "cell_type": "markdown",
   "metadata": {},
   "source": [
    "#### Histogram of every numeric column\n",
    "\n",
    "This is another graph that you should make for every dataset you get. It is often useful. For this dataset, it's less useful though. :("
   ]
  },
  {
   "cell_type": "code",
   "execution_count": 187,
   "metadata": {
    "collapsed": false
   },
   "outputs": [
    {
     "data": {
      "text/plain": [
       "array([[<matplotlib.axes._subplots.AxesSubplot object at 0x12d7dbb00>,\n",
       "        <matplotlib.axes._subplots.AxesSubplot object at 0x12de9c668>],\n",
       "       [<matplotlib.axes._subplots.AxesSubplot object at 0x12df07208>,\n",
       "        <matplotlib.axes._subplots.AxesSubplot object at 0x12df59d68>],\n",
       "       [<matplotlib.axes._subplots.AxesSubplot object at 0x12dfc8710>,\n",
       "        <matplotlib.axes._subplots.AxesSubplot object at 0x12dfc8748>]], dtype=object)"
      ]
     },
     "execution_count": 187,
     "metadata": {},
     "output_type": "execute_result"
    },
    {
     "data": {
      "image/png": "[encoded data removed]",
      "text/plain": [
       "<matplotlib.figure.Figure at 0x12dc9df98>"
      ]
     },
     "metadata": {},
     "output_type": "display_data"
    }
   ],
   "source": [
    "# Create histograms of numeric columns\n",
    "texas_df[numeric_columns].hist(bins=10, figsize=(10, 6))"
   ]
  },
  {
   "cell_type": "markdown",
   "metadata": {},
   "source": [
    "#### Years and Months, what do we have of each?"
   ]
  },
  {
   "cell_type": "markdown",
   "metadata": {},
   "source": [
    "We only have one year (2015), see:"
   ]
  },
  {
   "cell_type": "code",
   "execution_count": 188,
   "metadata": {
    "collapsed": false
   },
   "outputs": [
    {
     "data": {
      "text/plain": [
       "2015    12699\n",
       "Name: Year, dtype: int64"
      ]
     },
     "execution_count": 188,
     "metadata": {},
     "output_type": "execute_result"
    }
   ],
   "source": [
    "# How many hotels do we have of each year? \n",
    "texas_df['Year'].value_counts()"
   ]
  },
  {
   "cell_type": "markdown",
   "metadata": {},
   "source": [
    "We only have two months (July and August), see:"
   ]
  },
  {
   "cell_type": "code",
   "execution_count": 189,
   "metadata": {
    "collapsed": false
   },
   "outputs": [
    {
     "data": {
      "text/plain": [
       "8    6385\n",
       "7    6314\n",
       "Name: Month, dtype: int64"
      ]
     },
     "execution_count": 189,
     "metadata": {},
     "output_type": "execute_result"
    }
   ],
   "source": [
    "# Looks like these are all from 2015. Let's see how many\n",
    "# of each month we have.\n",
    "texas_df['Month'].value_counts()"
   ]
  },
  {
   "cell_type": "markdown",
   "metadata": {},
   "source": [
    "#### Histogram: Avg 'room capacity' per city (top cities only)"
   ]
  },
  {
   "cell_type": "code",
   "execution_count": 190,
   "metadata": {
    "collapsed": true
   },
   "outputs": [],
   "source": [
    "## Group by Capacity\n",
    "city_counts = texas_df.groupby('Location City')['Location Room Capacity'].mean()"
   ]
  },
  {
   "cell_type": "code",
   "execution_count": 191,
   "metadata": {
    "collapsed": true
   },
   "outputs": [],
   "source": [
    "## Sort the counts\n",
    "city_counts.sort_values(axis=0, ascending=False, inplace=True)"
   ]
  },
  {
   "cell_type": "code",
   "execution_count": 192,
   "metadata": {
    "collapsed": false
   },
   "outputs": [
    {
     "data": {
      "text/plain": [
       "<matplotlib.text.Text at 0x12def8908>"
      ]
     },
     "execution_count": 192,
     "metadata": {},
     "output_type": "execute_result"
    },
    {
     "data": {
      "image/png": "[encoded data removed]",
      "text/plain": [
       "<matplotlib.figure.Figure at 0x12e341240>"
      ]
     },
     "metadata": {},
     "output_type": "display_data"
    }
   ],
   "source": [
    "## Plot barchart of counts >110\n",
    "city_counts[city_counts>110].plot(kind='bar', figsize=(10, 4)).set_ylabel('avg room capacity')"
   ]
  },
  {
   "cell_type": "markdown",
   "metadata": {},
   "source": [
    "#### Histogram: Avg income per room per night per city (top cities only)"
   ]
  },
  {
   "cell_type": "code",
   "execution_count": 193,
   "metadata": {
    "collapsed": true
   },
   "outputs": [],
   "source": [
    "num_days = 31 + 31  # <-- both July and August each have 31 days in them.\n",
    "## Group Texas by City\n",
    "cities = texas_df.groupby('Location City')"
   ]
  },
  {
   "cell_type": "code",
   "execution_count": 194,
   "metadata": {
    "collapsed": true
   },
   "outputs": [],
   "source": [
    "## Get total receipts\n",
    "city_receipts = cities['Location Tot Room Receipts'].sum()"
   ]
  },
  {
   "cell_type": "code",
   "execution_count": 195,
   "metadata": {
    "collapsed": true
   },
   "outputs": [],
   "source": [
    "## Get total room capacity\n",
    "city_rooms = cities['Location Room Capacity'].sum()"
   ]
  },
  {
   "cell_type": "code",
   "execution_count": 196,
   "metadata": {
    "collapsed": true
   },
   "outputs": [],
   "source": [
    "## Get income per room per night\n",
    "city_income_per_room_per_night = city_receipts / city_rooms / num_days"
   ]
  },
  {
   "cell_type": "code",
   "execution_count": 197,
   "metadata": {
    "collapsed": true
   },
   "outputs": [],
   "source": [
    "## Sort income per room per night\n",
    "city_income_per_room_per_night.sort_values(axis=0, ascending=False, inplace=True)"
   ]
  },
  {
   "cell_type": "code",
   "execution_count": 198,
   "metadata": {
    "collapsed": true
   },
   "outputs": [],
   "source": [
    "## Find most profitable cities\n",
    "most_profitable_cities = city_income_per_room_per_night > 100"
   ]
  },
  {
   "cell_type": "code",
   "execution_count": 199,
   "metadata": {
    "collapsed": false
   },
   "outputs": [
    {
     "data": {
      "text/plain": [
       "<matplotlib.text.Text at 0x12e409208>"
      ]
     },
     "execution_count": 199,
     "metadata": {},
     "output_type": "execute_result"
    },
    {
     "data": {
      "image/png": "[encoded data removed]",
      "text/plain": [
       "<matplotlib.figure.Figure at 0x12e48d438>"
      ]
     },
     "metadata": {},
     "output_type": "display_data"
    }
   ],
   "source": [
    "## Plot most profitable cities\n",
    "city_income_per_room_per_night[most_profitable_cities].plot(kind='bar', figsize=(10, 4)) \\\n",
    "    .set_ylabel('avg income per room per night')"
   ]
  },
  {
   "cell_type": "markdown",
   "metadata": {},
   "source": [
    "#### RED ALERT: What's up with SOUTHLAKE?"
   ]
  },
  {
   "cell_type": "code",
   "execution_count": 200,
   "metadata": {
    "collapsed": false
   },
   "outputs": [
    {
     "data": {
      "text/html": [
       "<div>\n",
       "<table border=\"1\" class=\"dataframe\">\n",
       "  <thead>\n",
       "    <tr style=\"text-align: right;\">\n",
       "      <th></th>\n",
       "      <th>Month</th>\n",
       "      <th>Year</th>\n",
       "      <th>Taxpayer Number</th>\n",
       "      <th>Taxpayer Name</th>\n",
       "      <th>Taxpayer Address</th>\n",
       "      <th>Taxpayer City</th>\n",
       "      <th>Taxpayer State</th>\n",
       "      <th>Taxpayer Zip</th>\n",
       "      <th>Taxpayer County</th>\n",
       "      <th>Outlet Number</th>\n",
       "      <th>Location Name</th>\n",
       "      <th>Location Address</th>\n",
       "      <th>Location City</th>\n",
       "      <th>Location State</th>\n",
       "      <th>Location Zip</th>\n",
       "      <th>Location County</th>\n",
       "      <th>Location Room Capacity</th>\n",
       "      <th>Location Tot Room Receipts</th>\n",
       "      <th>Location Taxable Receipts</th>\n",
       "      <th>Taxpayer Geolocation</th>\n",
       "      <th>Location Geolocation</th>\n",
       "    </tr>\n",
       "  </thead>\n",
       "  <tbody>\n",
       "  </tbody>\n",
       "</table>\n",
       "</div>"
      ],
      "text/plain": [
       "Empty DataFrame\n",
       "Columns: [Month, Year, Taxpayer Number, Taxpayer Name, Taxpayer Address, Taxpayer City, Taxpayer State, Taxpayer Zip, Taxpayer County, Outlet Number, Location Name, Location Address, Location City, Location State, Location Zip, Location County, Location Room Capacity, Location Tot Room Receipts, Location Taxable Receipts, Taxpayer Geolocation, Location Geolocation]\n",
       "Index: []"
      ]
     },
     "execution_count": 200,
     "metadata": {},
     "output_type": "execute_result"
    }
   ],
   "source": [
    "# What's up with SOUTHLAKE?\n",
    "texas_df[texas_df['Location City'] == 'SOUTHLAKE']"
   ]
  },
  {
   "cell_type": "markdown",
   "metadata": {},
   "source": [
    "Our data says that this hotel in Southlake has only one room. Let's look into whether or not that's true. Here's the website for that hotel in Southlake:\n",
    "http://www3.hilton.com/en/hotels/texas/hilton-dallas-southlake-town-square-DFWSLHF/index.html\n",
    "\n",
    "Okay... that hotel above definitely has more than one room! Remember how we concidered dropping rows where 'Location Room Capacity' == 1? Well, I think it's time to pull the trigger on that decision. \n",
    "\n",
    "__HINT: THERE IS CODE IN ONE OF THE CELLS ABOVE THAT DOES THIS, BUT IT IS COMMENTED OUT--ALL YOU NEED TO DO IS UNCOMMENT THAT CODE AND RUN ALL THE CELLS FROM THERE TO HERE AGAIN. NOTICE WHAT CHANGES AS YOU RE-RUN EACH CELL.__"
   ]
  },
  {
   "cell_type": "markdown",
   "metadata": {},
   "source": [
    "#### Is there much of a difference between the month of July and the month of August?"
   ]
  },
  {
   "cell_type": "code",
   "execution_count": 201,
   "metadata": {
    "collapsed": true
   },
   "outputs": [],
   "source": [
    "# How does the specific month affect the avg income per room per night?\n",
    "\n",
    "## Group Texas by City and Month\n",
    "cities = texas_df.groupby(['Location City', 'Month'])"
   ]
  },
  {
   "cell_type": "code",
   "execution_count": 202,
   "metadata": {
    "collapsed": true
   },
   "outputs": [],
   "source": [
    "## Sum the total room receipts\n",
    "city_receipts = cities['Location Tot Room Receipts'].sum()"
   ]
  },
  {
   "cell_type": "code",
   "execution_count": 203,
   "metadata": {
    "collapsed": true
   },
   "outputs": [],
   "source": [
    "## Sum the total capacity\n",
    "city_rooms = cities['Location Room Capacity'].sum()"
   ]
  },
  {
   "cell_type": "code",
   "execution_count": 204,
   "metadata": {
    "collapsed": true
   },
   "outputs": [],
   "source": [
    "## Calculate income per room per night\n",
    "city_income_per_room_per_night = city_receipts / city_rooms / num_days"
   ]
  },
  {
   "cell_type": "code",
   "execution_count": 205,
   "metadata": {
    "collapsed": true
   },
   "outputs": [],
   "source": [
    "## Unstack grouped calculation\n",
    "city_income_per_room_per_night = city_income_per_room_per_night.unstack()"
   ]
  },
  {
   "cell_type": "code",
   "execution_count": 206,
   "metadata": {
    "collapsed": true
   },
   "outputs": [],
   "source": [
    "## Calculate average of July and August\n",
    "city_income_per_room_per_night['avg_7_8'] = (city_income_per_room_per_night[7] + \\\n",
    "                                             city_income_per_room_per_night[8]) / 2"
   ]
  },
  {
   "cell_type": "code",
   "execution_count": 207,
   "metadata": {
    "collapsed": true
   },
   "outputs": [],
   "source": [
    "## Sort averages\n",
    "city_income_per_room_per_night.sort_values(by='avg_7_8', ascending=False, inplace=True)"
   ]
  },
  {
   "cell_type": "code",
   "execution_count": 208,
   "metadata": {
    "collapsed": true
   },
   "outputs": [],
   "source": [
    "## Identify most profitable cities\n",
    "most_profitable_cities = city_income_per_room_per_night['avg_7_8'] > 100"
   ]
  },
  {
   "cell_type": "code",
   "execution_count": 209,
   "metadata": {
    "collapsed": false
   },
   "outputs": [
    {
     "data": {
      "text/plain": [
       "<matplotlib.text.Text at 0x12e640b00>"
      ]
     },
     "execution_count": 209,
     "metadata": {},
     "output_type": "execute_result"
    },
    {
     "data": {
      "image/png": "[encoded data removed]",
      "text/plain": [
       "<matplotlib.figure.Figure at 0x12e429a20>"
      ]
     },
     "metadata": {},
     "output_type": "display_data"
    }
   ],
   "source": [
    "## Plot most profitable cities\n",
    "city_income_per_room_per_night[most_profitable_cities].plot(kind='bar', figsize=(10, 4)) \\\n",
    "    .set_ylabel('avg income per room per night')"
   ]
  },
  {
   "cell_type": "markdown",
   "metadata": {},
   "source": [
    "Haha. Buda had a great month of July! (Or it was a data entry error.) It does seem that in general, the month of July was better for hotels than the month of August. The graph above only shows the top cities, let's look at ALL cities and compare the July vs Auguest."
   ]
  },
  {
   "cell_type": "code",
   "execution_count": 210,
   "metadata": {
    "collapsed": false
   },
   "outputs": [
    {
     "name": "stdout",
     "output_type": "stream",
     "text": [
      "July Avg: 25.19008193335837\n",
      "Aug Avg:  20.40243391986012\n"
     ]
    }
   ],
   "source": [
    "# Seems July (7) was a better month for the top cities than August (8). Let's see if this\n",
    "# was overall true for the entire dataset.\n",
    "print('July Avg:', city_income_per_room_per_night[7].mean())\n",
    "print('Aug Avg: ', city_income_per_room_per_night[8].mean())"
   ]
  },
  {
   "cell_type": "markdown",
   "metadata": {
    "collapsed": true
   },
   "source": [
    "Yep. Seems like on average hotels' month of July was better than August.\n",
    "\n",
    "... but... remember how we saw that Buda had a REALLY GOOD month of July? We need to look into that more. We'll leave that as an exercise for you! Figure out if:\n",
    "1. Buda really did have a REALLY GOOD month in July, or\n",
    "2. We are seeing some data-entry error... in which case we need to fix it and re-run our analysis."
   ]
  },
  {
   "cell_type": "code",
   "execution_count": null,
   "metadata": {
    "collapsed": true
   },
   "outputs": [],
   "source": []
  }
 ],
 "metadata": {
  "kernelspec": {
   "display_name": "Python 3",
   "language": "python",
   "name": "python3"
  },
  "language_info": {
   "codemirror_mode": {
    "name": "ipython",
    "version": 3
   },
   "file_extension": ".py",
   "mimetype": "text/x-python",
   "name": "python",
   "nbconvert_exporter": "python",
   "pygments_lexer": "ipython3",
   "version": "3.6.0"
  }
 },
 "nbformat": 4,
 "nbformat_minor": 0
}
